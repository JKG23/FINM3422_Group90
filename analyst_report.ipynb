{
 "cells": [
  {
   "cell_type": "code",
   "execution_count": null,
   "id": "ecef2eb8",
   "metadata": {},
   "outputs": [],
   "source": [
    "import pandas as pd\n",
    "from fpdf import FPDF\n",
    "from datetime import date\n",
    "import os\n",
    "import yfinance as yf\n",
    "import matplotlib.pyplot as plt\n",
    "import numpy as np\n",
    "import cairosvg\n",
    "import requests\n",
    "import functions\n",
    "from PIL import Image\n",
    "from bs4 import BeautifulSoup\n",
    "from bs4 import BeautifulSoup"
   ]
  },
  {
   "cell_type": "code",
   "execution_count": null,
   "id": "960a9fba",
   "metadata": {},
   "outputs": [],
   "source": [
    "# Initialize the PDF object to create a new report\n",
    "pdf = FPDF(orientation='P', unit='mm', format='A4')"
   ]
  },
  {
   "cell_type": "code",
   "execution_count": null,
   "id": "a5c1dfe8",
   "metadata": {},
   "outputs": [],
   "source": [
    "# Set up the font and add the first page to the PDF\n",
    "pdf.set_font('Arial',)\n",
    "pdf.add_page()"
   ]
  },
  {
   "cell_type": "code",
   "execution_count": null,
   "id": "d3361c7b",
   "metadata": {},
   "outputs": [],
   "source": [
    "# Add a visually appealing colored header background\n",
    "pdf.set_fill_color(202, 164, 94)  # A gold-like color for the header\n",
    "pdf.rect(0, 0, 210, 45, 'F')  # Draw a rectangle spanning the width of the page"
   ]
  },
  {
   "cell_type": "code",
   "execution_count": null,
   "id": "1faed5c1",
   "metadata": {},
   "outputs": [],
   "source": [
    "# Display the current date in white text at the top of the page\n",
    "pdf.set_text_color(255, 255, 255)\n",
    "pdf.set_font('Arial', 'I', 9)\n",
    "pdf.cell(200, 10, date.today().strftime(\"%d %B %Y\"), ln=True)"
   ]
  },
  {
   "cell_type": "code",
   "execution_count": null,
   "id": "2116c5aa",
   "metadata": {},
   "outputs": [],
   "source": [
    "# Add the main title of the report\n",
    "pdf.set_font('Arial', 'B', 16)\n",
    "pdf.ln(2)\n",
    "pdf.cell(200, 10, 'HMC Capital Equity Research Report', ln=True)"
   ]
  },
  {
   "cell_type": "code",
   "execution_count": null,
   "id": "2f036467",
   "metadata": {},
   "outputs": [],
   "source": [
    "# Download and embed the HMC Capital logo into the PDF\n",
    "svg_url = \"https://www.hmccapital.com.au/themes/bs5/images/HMC-Capital-logo.svg\"\n",
    "response = requests.get(svg_url)"
   ]
  },
  {
   "cell_type": "code",
   "execution_count": null,
   "id": "99170e37",
   "metadata": {},
   "outputs": [],
   "source": [
    "if response.status_code == 200:\n",
    "    with open(\"HMC_Capital_logo.svg\", \"wb\") as f:\n",
    "        f.write(response.content)\n",
    "    cairosvg.svg2png(url=\"HMC_Capital_logo.svg\", write_to=\"HMC_Capital_logo.png\")\n",
    "    pdf.image(\"HMC_Capital_logo.png\", x=125, y=10, w=75)  # Position the logo on the top-right\n",
    "    print(\"PDF created with converted SVG logo!\")\n",
    "else:\n",
    "    print(\"Failed to download SVG logo.\")"
   ]
  },
  {
   "cell_type": "code",
   "execution_count": null,
   "id": "b80065fe",
   "metadata": {},
   "outputs": [],
   "source": [
    "# Add the authors' names to give credit to the contributors\n",
    "pdf.set_font('Arial', '', 9)\n",
    "pdf.ln(2)\n",
    "pdf.cell(200, 10, 'By Flynn Hubbard, Jay Gills, Kirrtanya Tandon and Joshua Gray', ln=True)"
   ]
  },
  {
   "cell_type": "code",
   "execution_count": null,
   "id": "77a48bc8",
   "metadata": {},
   "outputs": [],
   "source": [
    "# Reset the text color to black for the main content of the report\n",
    "pdf.set_text_color(0, 0, 0)"
   ]
  },
  {
   "cell_type": "code",
   "execution_count": null,
   "id": "48ec8a70",
   "metadata": {},
   "outputs": [],
   "source": [
    "# Add a \"Company Overview\" section to introduce the company\n",
    "pdf.ln(6)\n",
    "pdf.set_font('Arial', 'B', 16)\n",
    "pdf.cell(200, 10, 'Company Overview', ln=True)"
   ]
  },
  {
   "cell_type": "code",
   "execution_count": null,
   "id": "f9f00bcd",
   "metadata": {},
   "outputs": [],
   "source": [
    "# Provide a brief description of the company\n",
    "pdf.set_font('Arial', '', 9)\n",
    "company_overview = \"\"\"\n",
    "HMC Capital Limited (ASX: HMC) is a leading Australian alternative asset manager, specializing in high-conviction real asset strategies. Since rebranding from Home Consortium in 2021, it has rapidly expanded its funds under management to over $18.5Bn, focusing on real estate, private equity, private credit, energy transition, and digital infrastructure.\n",
    "\"\"\"\n",
    "pdf.multi_cell(95, 5, company_overview)"
   ]
  },
  {
   "cell_type": "code",
   "execution_count": null,
   "id": "84d8cbcf",
   "metadata": {},
   "outputs": [],
   "source": [
    "# Align the \"Analyst Price Targets\" section to the right for better layout\n",
    "pdf.set_xy(110, pdf.get_y() - 30)\n",
    "pdf.set_font('Arial', 'B', 16)\n",
    "pdf.set_xy(105, pdf.get_y() - 10)\n",
    "pdf.set_text_color(202, 164, 94)  # Use a gold-like color for emphasis\n",
    "pdf.cell(95, 5, 'BUY', ln=True, align='R')\n",
    "pdf.set_text_color(0, 0, 0)"
   ]
  },
  {
   "cell_type": "code",
   "execution_count": null,
   "id": "bdbc2757",
   "metadata": {},
   "outputs": [],
   "source": [
    "# Add details about the stock's price target and other key metrics\n",
    "pdf.set_font('Arial', '', 9)\n",
    "price_targets = \"\"\"\n",
    "Stock Code: ASX:HMC\n",
    "Price (as of 10/4/25): A$4.68\n",
    "Price Target: A$9.00\n",
    "Upside: 92.31%\n",
    "Dividend yield: 2.56%\n",
    "GICS Sector: Financials\n",
    "\"\"\"\n",
    "pdf.set_x(105)\n",
    "pdf.multi_cell(95, 5, price_targets, align='R')"
   ]
  },
  {
   "cell_type": "code",
   "execution_count": null,
   "id": "78727d2a",
   "metadata": {},
   "outputs": [],
   "source": [
    "# Add an \"Industry Overview\" section to provide context about the sector\n",
    "pdf.ln(8)  # Adjusted spacing to move the section slightly higher\n",
    "pdf.set_font('Arial', 'B', 16)\n",
    "pdf.cell(200, 10, 'Industry Overview', ln=True)"
   ]
  },
  {
   "cell_type": "code",
   "execution_count": null,
   "id": "81613ac0",
   "metadata": {},
   "outputs": [],
   "source": [
    "# Describe the alternative asset management industry and its trends\n",
    "pdf.set_font('Arial', '', 9)\n",
    "industry_overview = \"\"\"\n",
    "The alternative asset management industry has grown rapidly in recent years, driven by rising demand for diversification, higher returns, and protection against market swings. This sector, which includes real estate, private equity, infrastructure, and energy transition, is popular for its stable returns and long-term growth. Institutional investors, like pension funds and sovereign wealth funds, are increasingly shifting capital towards alternatives as traditional assets offer lower yields. ESG investing is also reshaping the industry, with firms incorporating sustainability into their strategies. Despite challenges like market volatility and competition, the industry offers strong growth opportunities, especially for firms focusing on emerging areas like digital infrastructure and renewable energy.\n",
    "\"\"\"\n",
    "pdf.multi_cell(0, 5, industry_overview)"
   ]
  },
  {
   "cell_type": "code",
   "execution_count": null,
   "id": "03a46ba7",
   "metadata": {},
   "outputs": [],
   "source": [
    "# Add a \"DCF Output\" section to present financial projections\n",
    "pdf.ln(4)  # Adjusted spacing to move the section slightly higher\n",
    "pdf.set_font('Arial', 'B', 16)\n",
    "pdf.cell(200, 10, 'DCF Output', ln=True)"
   ]
  },
  {
   "cell_type": "code",
   "execution_count": null,
   "id": "b343f8ad",
   "metadata": {},
   "outputs": [],
   "source": [
    "# Read the DCF data from a CSV file and format it for the PDF\n",
    "csv_file_path = \"DCF CSV.csv\"\n",
    "df = pd.read_csv(csv_file_path)\n",
    "df.rename(columns={'Unnamed: 0': 'Item'}, inplace=True)"
   ]
  },
  {
   "cell_type": "code",
   "execution_count": null,
   "id": "4985ce1e",
   "metadata": {},
   "outputs": [],
   "source": [
    "# Format and add the DCF table to the PDF\n",
    "pdf.set_font('Arial', '', 9)\n",
    "headers = ['AUD$m'] + [f'{year}E' for year in range(2025, 2030)]\n",
    "pdf.ln(2)"
   ]
  },
  {
   "cell_type": "code",
   "execution_count": null,
   "id": "493c9f7e",
   "metadata": {},
   "outputs": [],
   "source": [
    "# Calculate column widths for a clean table layout\n",
    "page_width = 200\n",
    "left_margin = 10\n",
    "right_margin = 10\n",
    "usable_width = page_width - left_margin - right_margin\n",
    "item_col_width = 70\n",
    "number_col_width = (usable_width - item_col_width) / (len(headers) - 1)\n",
    "row_height = 4"
   ]
  },
  {
   "cell_type": "code",
   "execution_count": null,
   "id": "c2df4151",
   "metadata": {},
   "outputs": [],
   "source": [
    "# Add table headers with a distinct style\n",
    "pdf.set_font('Arial', 'I', 9)\n",
    "pdf.cell(item_col_width, row_height, headers[0], align='L')\n",
    "pdf.set_font('Arial', 'B', 9)\n",
    "pdf.set_text_color(202, 164, 94)  # Highlight headers with a gold-like color\n",
    "for header in headers[1:]:\n",
    "    pdf.cell(number_col_width, row_height, header, align='R')\n",
    "pdf.set_text_color(0, 0, 0)\n",
    "pdf.ln()\n",
    "pdf.ln()"
   ]
  },
  {
   "cell_type": "code",
   "execution_count": null,
   "id": "6347419f",
   "metadata": {},
   "outputs": [],
   "source": [
    "# Populate the table with data from the CSV file\n",
    "pdf.set_font('Arial', '', 9)\n",
    "for i, (index, row) in enumerate(df.iterrows()):\n",
    "    item_text = str(row['Item'])\n",
    "    if item_text.startswith(\"Less:\") or item_text.startswith(\"Add:\"):\n",
    "        item_text = \"     \" + item_text  # Indent subtotals for better readability\n",
    "    pdf.cell(item_col_width, row_height, item_text, align='L')\n",
    "    for col_index, value in enumerate(row[1:]):\n",
    "        if pd.isna(value):\n",
    "            cell_value = \"\"  # Leave empty cells for missing data\n",
    "        else:\n",
    "            if item_text.lower() == \"shares outstanding\":\n",
    "                cell_value = f\"{int(value):,}m\"  # Format as millions\n",
    "            elif item_text.lower() == \"share price\":\n",
    "                cell_value = f\"${float(value):.2f}\"  # Format as currency\n",
    "            else:\n",
    "                cell_value = f\"{int(value):,}\"  # Format as integers with commas\n",
    "        pdf.cell(number_col_width, row_height + 0.5, cell_value, align='R')\n",
    "    pdf.ln()"
   ]
  },
  {
   "cell_type": "code",
   "execution_count": null,
   "id": "d3d62476",
   "metadata": {},
   "outputs": [],
   "source": [
    "# Add a new page to the PDF\n",
    "pdf.add_page()"
   ]
  },
  {
   "cell_type": "code",
   "execution_count": null,
   "id": "c2f7a94c",
   "metadata": {},
   "outputs": [],
   "source": [
    "# Add a heading for the \"Stock Price Performance\" section\n",
    "pdf.set_font('Arial', 'B', 16)\n",
    "pdf.set_xy(10, 20)\n",
    "pdf.cell(200, 10, 'Stock Price Performance', ln=True)"
   ]
  },
  {
   "cell_type": "code",
   "execution_count": null,
   "id": "2608ceba",
   "metadata": {},
   "outputs": [],
   "source": [
    "# Fetch historical stock data for HMC and ASX200\n",
    "ticker_hmc = 'HMC.AX'\n",
    "ticker_asx200 = '^AXJO'\n",
    "hmc = yf.download(ticker_hmc, start='2021-12-30', end='2025-04-27')\n",
    "asx200 = yf.download(ticker_asx200, start='2021-12-30', end='2025-04-27')"
   ]
  },
  {
   "cell_type": "code",
   "execution_count": null,
   "id": "5a891f10",
   "metadata": {},
   "outputs": [],
   "source": [
    "# Read analyst price targets from a CSV file\n",
    "price_targets = pd.read_csv('price_targets.csv')\n",
    "price_targets['Date'] = pd.to_datetime(price_targets['Date'])"
   ]
  },
  {
   "cell_type": "code",
   "execution_count": null,
   "id": "43ec4222",
   "metadata": {},
   "outputs": [],
   "source": [
    "# Generate the first chart: HMC Share Price and Analyst Price Targets\n",
    "fig1, ax1 = plt.subplots(figsize=(8, 6))\n",
    "ax1.plot(hmc.index, hmc['Close'], label='HMC Share Price', color='blue')  # Plot HMC share price\n",
    "ax1.plot(price_targets['Date'], price_targets['Target Price'], linestyle='--', marker='o', color='black', label='Analyst Price Targets')  # Overlay analyst price targets\n",
    "ax1.set_xlabel('Date')  # Set x-axis label\n",
    "ax1.set_ylabel('HMC Price (AUD)', color='blue')  # Set y-axis label with matching color\n",
    "ax1.tick_params(axis='y', labelcolor='blue')  # Match y-axis tick color to the line\n",
    "ax1.set_title('HMC Share Price and Analyst Targets', pad=20)  # Add a title with padding\n",
    "ax1.legend(loc='upper left')  # Place the legend in the upper left corner\n",
    "ax1.grid(True)  # Enable grid for better readability\n",
    "ax1.xaxis.set_major_locator(plt.MaxNLocator(6))  # Limit the number of x-axis ticks for clarity\n",
    "graph1_path = 'hmc_price_targets_chart.png'  # Save the chart as a PNG file\n",
    "plt.savefig(graph1_path)\n",
    "plt.close()  # Close the figure to free up memory"
   ]
  },
  {
   "cell_type": "code",
   "execution_count": null,
   "id": "b42b486d",
   "metadata": {},
   "outputs": [],
   "source": [
    "# Generate the second chart: HMC Share Price vs ASX200 Index\n",
    "fig2, ax2 = plt.subplots(figsize=(8, 6))\n",
    "ax2.plot(hmc.index, hmc['Close'], label='HMC Share Price', color='blue')  # Plot HMC share price\n",
    "ax2.set_xlabel('Date')  # Set x-axis label\n",
    "ax2.set_ylabel('HMC Price (AUD)', color='blue')  # Set left y-axis label\n",
    "ax2.tick_params(axis='y', labelcolor='blue')  # Match left y-axis tick color to the line"
   ]
  },
  {
   "cell_type": "code",
   "execution_count": null,
   "id": "45e387e8",
   "metadata": {},
   "outputs": [],
   "source": [
    "# Add a secondary y-axis for the ASX200 Index\n",
    "ax3 = ax2.twinx()\n",
    "ax3.plot(asx200.index, asx200['Close'], label='ASX200 Index', color='grey', linestyle='--')  # Plot ASX200 index\n",
    "ax3.set_ylabel('ASX200 Index Level', color='grey')  # Set right y-axis label\n",
    "ax3.tick_params(axis='y', labelcolor='grey')  # Match right y-axis tick color to the line"
   ]
  },
  {
   "cell_type": "code",
   "execution_count": null,
   "id": "86055ab2",
   "metadata": {},
   "outputs": [],
   "source": [
    "# Add a combined title and legend for both axes\n",
    "fig2.suptitle('HMC Share Price and ASX200 Index', y=0.95)  # Set the title with adjusted vertical position\n",
    "lines1, labels1 = ax2.get_legend_handles_labels()  # Get legend details for the first axis\n",
    "lines2, labels2 = ax3.get_legend_handles_labels()  # Get legend details for the second axis\n",
    "ax2.legend(lines1 + lines2, labels1 + labels2, loc='upper left')  # Combine legends and place in the upper left corner\n",
    "ax2.grid(True)  # Enable grid for better readability\n",
    "ax2.xaxis.set_major_locator(plt.MaxNLocator(6))  # Limit the number of x-axis ticks for clarity\n",
    "graph2_path = 'hmc_asx200_chart.png'  # Save the chart as a PNG file\n",
    "plt.savefig(graph2_path)\n",
    "plt.close()  # Close the figure to free up memory"
   ]
  },
  {
   "cell_type": "code",
   "execution_count": null,
   "id": "eb047f39",
   "metadata": {},
   "outputs": [],
   "source": [
    "# Embed the generated charts into the PDF\n",
    "pdf.image(graph1_path, x=10, y=30, w=95)  # Add the first chart on the left side of the page\n",
    "pdf.image(graph2_path, x=110, y=30, w=95)  # Add the second chart on the right side of the page"
   ]
  },
  {
   "cell_type": "code",
   "execution_count": null,
   "id": "b57d489a",
   "metadata": {},
   "outputs": [],
   "source": [
    "# Add small headers for branding and context\n",
    "pdf.set_font('Arial', '', 9)\n",
    "pdf.set_xy(10, 10)  # Position for the left header\n",
    "pdf.cell(0, 5, 'FINM3422 Group 90', ln=False)  # Add group name\n",
    "pdf.set_xy(200 - pdf.get_string_width('HMC Capital Equity Research Report') - 10, 10)  # Position for the right header\n",
    "pdf.cell(0, 5, 'HMC Capital Equity Research Report', ln=False)  # Add report title"
   ]
  },
  {
   "cell_type": "code",
   "execution_count": null,
   "id": "802df42f",
   "metadata": {},
   "outputs": [],
   "source": [
    "# Add a heading for the \"Recent Headlines\" section\n",
    "pdf.set_xy(10, 120)  # Position below the two charts\n",
    "pdf.set_font('Arial', 'B', 16)  # Set font size to 16 for the heading\n",
    "pdf.cell(200, 10, 'Recent Headlines', ln=True)"
   ]
  },
  {
   "cell_type": "code",
   "execution_count": null,
   "id": "7783321b",
   "metadata": {},
   "outputs": [],
   "source": [
    "# Add a small gap between the heading and the body text\n",
    "pdf.ln(2)"
   ]
  },
  {
   "cell_type": "code",
   "execution_count": null,
   "id": "03ebe144",
   "metadata": {},
   "outputs": [],
   "source": [
    "# Fetch recent headlines from the AFR website\n",
    "AFR = 'https://www.afr.com/company/asx/hmc'"
   ]
  },
  {
   "cell_type": "code",
   "execution_count": null,
   "id": "1ec848c9",
   "metadata": {},
   "outputs": [],
   "source": [
    "try:\n",
    "    RawHTML = requests.get(AFR, timeout=10)  # Add a timeout to avoid hanging\n",
    "    RawHTML.raise_for_status()  # Raise an HTTPError for bad responses (4xx and 5xx)\n",
    "    # Parse the raw HTML using BeautifulSoup\n",
    "    parse = BeautifulSoup(RawHTML.content, 'html.parser')\n",
    "\n",
    "    # Extract recent headlines specific to the AFR format\n",
    "    headlines = parse.find_all('h3', class_='-_73414cb90844eda9-headline')\n",
    "\n",
    "    # Get the top 7 headlines and clean the text\n",
    "    recent_headlines = [headline.get_text(strip=True) for headline in headlines[:10]]\n",
    "    \n",
    "    # Remove or replace non-ASCII characters\n",
    "    recent_headlines = [headline.encode('ascii', 'ignore').decode('ascii') for headline in recent_headlines]\n",
    "    \n",
    "    if not recent_headlines:\n",
    "        recent_headlines = [\"No headlines found.\"] * 7  # Fallback if no headlines are found\n",
    "except (requests.RequestException, Exception) as e:\n",
    "    print(f\"Error fetching or parsing headlines: {e}\")\n",
    "    recent_headlines = [\"Error fetching headlines.\"] * 7  # Fallback in case of an error"
   ]
  },
  {
   "cell_type": "code",
   "execution_count": null,
   "id": "70032c56",
   "metadata": {},
   "outputs": [],
   "source": [
    "# Add the headlines to the PDF as a numbered list\n",
    "pdf.set_font('Arial', '', 9)\n",
    "for i, headline in enumerate(recent_headlines, start=1):\n",
    "    pdf.cell(190, 5, f\"{i}. {headline}\", ln=True)  # Adjust width for smaller right margin"
   ]
  },
  {
   "cell_type": "code",
   "execution_count": null,
   "id": "36e9ba45",
   "metadata": {},
   "outputs": [],
   "source": [
    "# Add a \"Financial Ratios\" table\n",
    "pdf.set_xy(10, 190)  # Adjust position to fit the table on the page"
   ]
  },
  {
   "cell_type": "code",
   "execution_count": null,
   "id": "4ceeac97",
   "metadata": {},
   "outputs": [],
   "source": [
    "# Add a title for the table\n",
    "pdf.set_font('Arial', 'B', 16)\n",
    "pdf.cell(100, 10, 'Financial Ratios', ln=True)"
   ]
  },
  {
   "cell_type": "code",
   "execution_count": null,
   "id": "97bd68ca",
   "metadata": {},
   "outputs": [],
   "source": [
    "# Add table headers\n",
    "pdf.set_font('Arial', 'B', 9)\n",
    "pdf.set_fill_color(202, 164, 94)\n",
    "pdf.set_text_color(255, 255, 255)\n",
    "pdf.cell(45, 6, 'Metric', border=1, fill=True)  # Column for metric names\n",
    "pdf.cell(45, 6, 'Value', border=1, fill=True)  # Column for metric values\n",
    "pdf.ln()"
   ]
  },
  {
   "cell_type": "code",
   "execution_count": null,
   "id": "408729ea",
   "metadata": {},
   "outputs": [],
   "source": [
    "# Add table rows with financial ratios\n",
    "pdf.set_font('Arial', '', 9)\n",
    "pdf.set_text_color(0, 0, 0)\n",
    "for index, row in functions.df_ratios.iterrows():\n",
    "    metric = str(row['Metric'])\n",
    "    try:\n",
    "        value = f\"{float(row['Value']):.2f}\"  # Format values to two decimal places\n",
    "    except ValueError:\n",
    "        value = str(row['Value'])  # Fallback for non-numeric values\n",
    "    pdf.cell(45, 6, metric, border=1)  # Add metric name\n",
    "    pdf.cell(45, 6, value, border=1)  # Add metric value\n",
    "    pdf.ln()"
   ]
  },
  {
   "cell_type": "code",
   "execution_count": null,
   "id": "31fcdc47",
   "metadata": {},
   "outputs": [],
   "source": [
    "# Add a \"Recommendation\" section aligned with the \"Recent Headlines\" heading\n",
    "pdf.set_xy(110, 120)  # Position to the right of the page\n",
    "pdf.set_font('Arial', 'B', 16)\n",
    "pdf.cell(90, 10, 'Recomendations', ln=True)"
   ]
  },
  {
   "cell_type": "code",
   "execution_count": null,
   "id": "40a78f05",
   "metadata": {},
   "outputs": [],
   "source": [
    "# Add the investment overview text\n",
    "pdf.set_font('Arial', '', 9)\n",
    "pdf.set_xy(110, 130)  # Adjust position for the body text\n",
    "investment_overview = \"\"\"\n",
    "HMC Capital Ltd presents a compelling investment opportunity within the Australian alternative asset management sector, thanks to its strong fundamentals and strategic initiatives that position it for impressive long-term growth. Despite the recent market volatility impacting its share price, the company continues to demonstrate resilience and solid performance. In the first half of FY25, HMC reported a record pre-tax operating earnings of $202.2 million, a staggering 240% increase from the previous year. Assets under management surged to $18.5 billion, reflecting a remarkable 45% rise since June 2024. This signifies the success of HMC's expansion strategies and growing investor confidence.\n",
    "\n",
    "However, the business does face notable risks. These include the inherent volatility of the market, increased competition within the asset management space, and execution risks as it expands its fund offerings. Additionally, regulatory changes, particularly those related to ESG investing, could affect its strategies and future growth potential. Another risk is the possibility of failing to meet return expectations for new funds, which could harm the company's reputation and investor trust. Despite this, Goldman Sachs initiated coverage with a 'Buy' rating and a price target of $8.94, noting that HMC's scalable real asset strategies and strong structural growth drivers make it an attractive investment. Overall, despite the risks, this stock has strong growth prospects, making it a buy recommendation for long-term investors.\n",
    "\"\"\"\n",
    "pdf.multi_cell(90, 5, investment_overview, align='L')"
   ]
  },
  {
   "cell_type": "code",
   "execution_count": null,
   "id": "d593ec0a",
   "metadata": {},
   "outputs": [],
   "source": [
    "# Save the final PDF report\n",
    "pdf.output(\"HMC Capital Equity Research Report.pdf\")"
   ]
  }
 ],
 "metadata": {
  "jupytext": {
   "cell_metadata_filter": "-all",
   "main_language": "python",
   "notebook_metadata_filter": "-all"
  }
 },
 "nbformat": 4,
 "nbformat_minor": 5
}
